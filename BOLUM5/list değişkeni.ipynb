{
 "cells": [
  {
   "cell_type": "markdown",
   "metadata": {},
   "source": [
    "Bu bölümde öğreneceklerimiz\n",
    "\n",
    "* list veri tipi özellikleri\n",
    "* list veri tipi yardımcı fonksiyonları\n",
    "* list veri tipi üzerinde yapılabilecek işlemler"
   ]
  },
  {
   "cell_type": "markdown",
   "metadata": {},
   "source": [
    "# list veri tipi\n",
    "\n",
    "**list** `<class 'list'>`\n",
    "\n",
    "Python'da list veri tipinde bir değişken tanımlamak için '[]' kullanılır. Bir başka ifadeyle python değişkenin list veri tipinde olduğunu '[]' köşeli parantez olmasından tanımaktadır.  "
   ]
  },
  {
   "cell_type": "code",
   "execution_count": null,
   "metadata": {},
   "outputs": [],
   "source": []
  },
  {
   "cell_type": "markdown",
   "metadata": {},
   "source": [
    "* `len` fonksiyonu ile listenin uzunluğunu elde ederiz"
   ]
  },
  {
   "cell_type": "code",
   "execution_count": null,
   "metadata": {},
   "outputs": [],
   "source": []
  },
  {
   "cell_type": "markdown",
   "metadata": {},
   "source": [
    "* çok boyutlu verileri list değişkeninde de tutabiliriz"
   ]
  },
  {
   "cell_type": "code",
   "execution_count": null,
   "metadata": {},
   "outputs": [],
   "source": []
  },
  {
   "cell_type": "markdown",
   "metadata": {},
   "source": [
    "* birbirinden farklı elemanları birlikte tutabiliriz."
   ]
  },
  {
   "cell_type": "code",
   "execution_count": null,
   "metadata": {},
   "outputs": [],
   "source": []
  },
  {
   "cell_type": "markdown",
   "metadata": {},
   "source": [
    "* karakter dizilerinin immutable değişken olduğunu söylemiştik, list mutable bir veri tipidir"
   ]
  },
  {
   "cell_type": "code",
   "execution_count": null,
   "metadata": {},
   "outputs": [],
   "source": []
  },
  {
   "cell_type": "markdown",
   "metadata": {},
   "source": [
    "* Eğer list te olmayan bir indis numarası ile elemana erişmeye çalışırsak;"
   ]
  },
  {
   "cell_type": "code",
   "execution_count": null,
   "metadata": {},
   "outputs": [],
   "source": []
  },
  {
   "cell_type": "markdown",
   "metadata": {},
   "source": [
    "* list e eleman eklemek için;"
   ]
  },
  {
   "cell_type": "code",
   "execution_count": null,
   "metadata": {},
   "outputs": [],
   "source": []
  },
  {
   "cell_type": "markdown",
   "metadata": {},
   "source": [
    "* iki list i birleştirmek için;"
   ]
  },
  {
   "cell_type": "code",
   "execution_count": null,
   "metadata": {},
   "outputs": [],
   "source": []
  },
  {
   "cell_type": "markdown",
   "metadata": {},
   "source": [
    "* list ten değer silebilmek için;"
   ]
  },
  {
   "cell_type": "code",
   "execution_count": null,
   "metadata": {},
   "outputs": [],
   "source": []
  },
  {
   "cell_type": "markdown",
   "metadata": {},
   "source": [
    "### list fonksiyonları\n",
    "* append\n",
    "<br>list e eleman eklemek için kullanılan fonksiyondur. Sadece değerin verilmesi yeterlidir. Eklenen eleman listenin sonuna eklenir."
   ]
  },
  {
   "cell_type": "code",
   "execution_count": null,
   "metadata": {},
   "outputs": [],
   "source": []
  },
  {
   "cell_type": "markdown",
   "metadata": {},
   "source": [
    "* insert\n",
    "<br>list e eleman eklemek için kullanılabilecek diğer bir fonksiyondur. Değer ile birlikte indisinde verilmesi gerekir. Eklenen eleman belirtilen indisli yere eklenir."
   ]
  },
  {
   "cell_type": "code",
   "execution_count": null,
   "metadata": {},
   "outputs": [],
   "source": []
  },
  {
   "cell_type": "markdown",
   "metadata": {},
   "source": [
    "* pop \n",
    "<br> list ten veri silmek için kullanılır. Silinecek olan elemanın indis numarası verilerek silme işlemi gerçekleştirilir. Fonksiyon geri dönüş değeri olarak o indisteki değeri döndürür"
   ]
  },
  {
   "cell_type": "code",
   "execution_count": null,
   "metadata": {},
   "outputs": [],
   "source": []
  },
  {
   "cell_type": "markdown",
   "metadata": {},
   "source": [
    "* remove\n",
    "<br> list ten veri silmek için kullanılan bir diğer fonksiyondur. Parametreyi değer olarak alır. list içerisinde aynı eleman bulunması durumunda soldan itibaren karşılaştığı ilk elemanı siler. Bir başka ifadeyle en küçük indis numaralı değeri siler"
   ]
  },
  {
   "cell_type": "code",
   "execution_count": null,
   "metadata": {},
   "outputs": [],
   "source": []
  },
  {
   "cell_type": "markdown",
   "metadata": {},
   "source": [
    "* extend\n",
    "<br>bir list değişkeni diğer bir list değişkeni içerisinde genişletir. "
   ]
  },
  {
   "cell_type": "code",
   "execution_count": null,
   "metadata": {},
   "outputs": [],
   "source": []
  },
  {
   "cell_type": "markdown",
   "metadata": {},
   "source": [
    "* sort\n",
    "<br>list içerisindeki elemanları sıralar. Bu sıralama sırasında string olarak tutulan verileri sıralarken türkçe alfabeyi dikkate almaz."
   ]
  },
  {
   "cell_type": "code",
   "execution_count": null,
   "metadata": {},
   "outputs": [],
   "source": []
  },
  {
   "cell_type": "markdown",
   "metadata": {},
   "source": [
    "* reverse\n",
    "<br>listeyi tersine çevirir. listedeki son eleman ilk eleman yerine geçer. ilk elemansa son eleman yerine... `degisken[::-1]` ile aynı işlevi görmektedir."
   ]
  },
  {
   "cell_type": "code",
   "execution_count": null,
   "metadata": {},
   "outputs": [],
   "source": []
  },
  {
   "cell_type": "markdown",
   "metadata": {},
   "source": [
    "* count\n",
    "<br> Fonksiyon verilen değerin list içerisinde kaç tane olduğunu değer olarak geri döndürür"
   ]
  },
  {
   "cell_type": "code",
   "execution_count": null,
   "metadata": {},
   "outputs": [],
   "source": []
  },
  {
   "cell_type": "markdown",
   "metadata": {},
   "source": [
    "* clear\n",
    "<br>list içerisindeki tüm elemanları temizler. Ancak list değişkeni tanım olarak bellekte kalır."
   ]
  },
  {
   "cell_type": "code",
   "execution_count": null,
   "metadata": {},
   "outputs": [],
   "source": []
  },
  {
   "cell_type": "markdown",
   "metadata": {},
   "source": [
    "* index\n",
    "<br>Girilen değerin bulunduğu en düşük indis numarasını verir"
   ]
  },
  {
   "cell_type": "code",
   "execution_count": null,
   "metadata": {},
   "outputs": [],
   "source": []
  },
  {
   "cell_type": "markdown",
   "metadata": {},
   "source": [
    "* copy\n",
    "<br>list tipi değişkeni int tipi değişkenlerde olduğu gibi farklı bir değişkene aktarmak istediğimizde; list değişkene başka isim daha atamış oluruz. Aynı veriye her iki değişkenle birlikte erişebiliriz. Bu amaçla `degisken.copy()` fonksiyonu kullanılır. "
   ]
  },
  {
   "cell_type": "code",
   "execution_count": null,
   "metadata": {},
   "outputs": [],
   "source": []
  },
  {
   "cell_type": "markdown",
   "metadata": {},
   "source": [
    "Egzersiz zamanı uygulama dosyalarından [5_Degiskenler_8.ipynb](http://www.uzaktanegitim.com) dosyasını açarak uygulamamızı yapabiliriz."
   ]
  }
 ],
 "metadata": {
  "kernelspec": {
   "display_name": "Python 3",
   "language": "python",
   "name": "python3"
  },
  "language_info": {
   "codemirror_mode": {
    "name": "ipython",
    "version": 3
   },
   "file_extension": ".py",
   "mimetype": "text/x-python",
   "name": "python",
   "nbconvert_exporter": "python",
   "pygments_lexer": "ipython3",
   "version": "3.7.3"
  }
 },
 "nbformat": 4,
 "nbformat_minor": 2
}
