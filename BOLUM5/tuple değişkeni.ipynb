{
 "cells": [
  {
   "cell_type": "markdown",
   "metadata": {},
   "source": [
    "Bu bölümde öğreneceklerimiz\n",
    "\n",
    "* tuple veri tipi özellikleri\n",
    "* tuple veri tipi yardımcı fonksiyonları\n",
    "* tuple veri tipi üzerinde yapılabilecek işlemler"
   ]
  },
  {
   "cell_type": "markdown",
   "metadata": {},
   "source": [
    "# tuple veri tipi\n",
    "\n",
    "**tuple** `<class 'tuple'>`\n",
    "\n",
    "Python'da tuple veri tipinde bir değişken tanımlamak için '()' kullanılır. tuple veri tipi immutable bir veri tipidir.\n",
    "* Tek elemanı tuple tanımlamak"
   ]
  },
  {
   "cell_type": "code",
   "execution_count": null,
   "metadata": {},
   "outputs": [],
   "source": []
  },
  {
   "cell_type": "markdown",
   "metadata": {},
   "source": [
    "* tuple veri tipindeki elemanlara erişmek"
   ]
  },
  {
   "cell_type": "code",
   "execution_count": null,
   "metadata": {},
   "outputs": [],
   "source": []
  },
  {
   "cell_type": "markdown",
   "metadata": {},
   "source": [
    "### tuple yardımcı fonksiyonları\n",
    "* index \n",
    "<br> Girilen değerin bulunduğu en düşük indis numarasını verir"
   ]
  },
  {
   "cell_type": "code",
   "execution_count": null,
   "metadata": {},
   "outputs": [],
   "source": []
  },
  {
   "cell_type": "markdown",
   "metadata": {},
   "source": [
    "* count\n",
    "<br> Fonksiyon verilen değerin tuple içerisinde kaç tane olduğunu değer olarak geri döndürür"
   ]
  },
  {
   "cell_type": "code",
   "execution_count": null,
   "metadata": {},
   "outputs": [],
   "source": []
  },
  {
   "cell_type": "markdown",
   "metadata": {},
   "source": [
    "Egzersiz zamanı uygulama dosyalarından [5_Degiskenler_9.ipynb](http://www.uzaktanegitim.com) dosyasını açarak uygulamamızı yapabiliriz."
   ]
  }
 ],
 "metadata": {
  "kernelspec": {
   "display_name": "Python 3",
   "language": "python",
   "name": "python3"
  },
  "language_info": {
   "codemirror_mode": {
    "name": "ipython",
    "version": 3
   },
   "file_extension": ".py",
   "mimetype": "text/x-python",
   "name": "python",
   "nbconvert_exporter": "python",
   "pygments_lexer": "ipython3",
   "version": "3.7.3"
  }
 },
 "nbformat": 4,
 "nbformat_minor": 2
}
