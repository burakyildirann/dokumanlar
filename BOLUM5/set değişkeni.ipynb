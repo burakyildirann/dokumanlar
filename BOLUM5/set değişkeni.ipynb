{
 "cells": [
  {
   "cell_type": "markdown",
   "metadata": {},
   "source": [
    "Bu bölümde öğreneceklerimiz\n",
    "\n",
    "* dict veri tipi özellikleri\n",
    "* dict veri tipindeki key,value kavramları \n",
    "* dict veri tipi yardımcı fonksiyonları\n",
    "* dict veri tipi üzerinde yapılabilecek işlemler"
   ]
  },
  {
   "cell_type": "markdown",
   "metadata": {},
   "source": [
    "# set veri tipi\n",
    "\n",
    "**set** `<class 'set'>`\n",
    "\n",
    "Diğer veri tiplerini sırasız olarak bir arada tutmanızı sağlayan veri tipidir. Kümelerle yapabilabilen her türlü işlem(Kesişim,Birleşim vb.) bu veri tipi ile yapılabilmektedir. "
   ]
  },
  {
   "cell_type": "code",
   "execution_count": null,
   "metadata": {},
   "outputs": [],
   "source": []
  },
  {
   "cell_type": "markdown",
   "metadata": {},
   "source": [
    "* set elemanlarına erişirken;"
   ]
  },
  {
   "cell_type": "code",
   "execution_count": null,
   "metadata": {},
   "outputs": [],
   "source": []
  },
  {
   "cell_type": "markdown",
   "metadata": {},
   "source": [
    "### set veri tipi fonksiyonları\n",
    "* add\n",
    "<br> set içerisine eleman eklememiz için kullandığımız fonksiyondur."
   ]
  },
  {
   "cell_type": "code",
   "execution_count": null,
   "metadata": {},
   "outputs": [],
   "source": []
  },
  {
   "cell_type": "markdown",
   "metadata": {},
   "source": [
    "* clear\n",
    "<br>set içerisindeki tüm elemanları silmek için kullanılan fonksiyondur."
   ]
  },
  {
   "cell_type": "code",
   "execution_count": null,
   "metadata": {},
   "outputs": [],
   "source": []
  },
  {
   "cell_type": "markdown",
   "metadata": {},
   "source": [
    "* copy\n",
    "<br>set veri tipinde tutulan değişkenin kopyalanmasını sağlayan fonksiyondur. değişkenin yeni bir değişkene eşitlenmesi durumunda list veri tipinde olduğu gibi kopyalama işlemi gerçekleşmez bu nedenle copy fonksiyonu kullanılmalıdır. "
   ]
  },
  {
   "cell_type": "code",
   "execution_count": null,
   "metadata": {},
   "outputs": [],
   "source": []
  },
  {
   "cell_type": "markdown",
   "metadata": {},
   "source": [
    "* update\n",
    "<br>set içerisine başka bir set veri tipinde değişkenin aktarılması ve güncellenmesi için kullanılır."
   ]
  },
  {
   "cell_type": "code",
   "execution_count": null,
   "metadata": {},
   "outputs": [],
   "source": []
  },
  {
   "cell_type": "markdown",
   "metadata": {},
   "source": [
    "* remove\n",
    "<br>değer verilerek silme işlemi için kullanılır. değer set içerisinde yoksa `Key Error` hatası alınır."
   ]
  },
  {
   "cell_type": "code",
   "execution_count": null,
   "metadata": {},
   "outputs": [],
   "source": []
  },
  {
   "cell_type": "markdown",
   "metadata": {},
   "source": [
    "* discard\n",
    "<br>remove fonksiyonundan farklı olarak silinmek istenen eleman set içinde yoksa hata vermez."
   ]
  },
  {
   "cell_type": "code",
   "execution_count": null,
   "metadata": {},
   "outputs": [],
   "source": []
  },
  {
   "cell_type": "markdown",
   "metadata": {},
   "source": [
    "* pop\n",
    "<br>Genellikle listedeki ilk elemanı siler."
   ]
  },
  {
   "cell_type": "code",
   "execution_count": null,
   "metadata": {},
   "outputs": [],
   "source": []
  },
  {
   "cell_type": "markdown",
   "metadata": {},
   "source": [
    "* pop\n",
    "<br>Genellikle listedeki ilk elemanı siler."
   ]
  },
  {
   "cell_type": "code",
   "execution_count": null,
   "metadata": {},
   "outputs": [],
   "source": []
  },
  {
   "cell_type": "markdown",
   "metadata": {},
   "source": [
    "* union\n",
    "<br>set içerisine başka bir seti eklememizi sağlar.(Küme birleşimi)"
   ]
  },
  {
   "cell_type": "code",
   "execution_count": null,
   "metadata": {},
   "outputs": [],
   "source": []
  },
  {
   "cell_type": "markdown",
   "metadata": {},
   "source": [
    "* instersection\n",
    "<br>set veri tipinde tutulan değişkenin başka bir set veri tipli değişkenle ortak elemanlarını listeler.(Küme kesişimi)"
   ]
  },
  {
   "cell_type": "code",
   "execution_count": null,
   "metadata": {},
   "outputs": [],
   "source": []
  },
  {
   "cell_type": "markdown",
   "metadata": {},
   "source": [
    "* instersection_update\n",
    "<br>set veri tipinde tutulan değişkenin başka bir set veri tipli değişkenle ortak elemanlarını listeleyip ilk değişkeni bu veri ile günceller.(Küme kesişimi güncelle)"
   ]
  },
  {
   "cell_type": "code",
   "execution_count": null,
   "metadata": {},
   "outputs": [],
   "source": []
  },
  {
   "cell_type": "markdown",
   "metadata": {},
   "source": [
    "* isdisjoint\n",
    "<br>iki değişkenin ortak elemanı olma durumunu True ya da False olarak döndürür."
   ]
  },
  {
   "cell_type": "code",
   "execution_count": null,
   "metadata": {},
   "outputs": [],
   "source": []
  },
  {
   "cell_type": "markdown",
   "metadata": {},
   "source": [
    "* difference\n",
    "<br>set veri tipinde tutulan değişkenin başka bir set veri tipli değişkenle farklı elemanlarını listeler.(Küme farkı)"
   ]
  },
  {
   "cell_type": "code",
   "execution_count": null,
   "metadata": {},
   "outputs": [],
   "source": []
  },
  {
   "cell_type": "markdown",
   "metadata": {},
   "source": [
    "* difference_update\n",
    "<br>set veri tipinde tutulan değişkenin başka bir set veri tipli değişkenle farklı elemanlarını listeler.(Küme farkı)"
   ]
  },
  {
   "cell_type": "code",
   "execution_count": null,
   "metadata": {},
   "outputs": [],
   "source": []
  },
  {
   "cell_type": "markdown",
   "metadata": {},
   "source": [
    "* difference\n",
    "<br>set veri tipinde tutulan değişkenin başka bir set veri tipli değişkenle farklı elemanlarını listeler.(Küme farkı)"
   ]
  },
  {
   "cell_type": "code",
   "execution_count": null,
   "metadata": {},
   "outputs": [],
   "source": []
  },
  {
   "cell_type": "markdown",
   "metadata": {},
   "source": [
    "* difference\n",
    "<br>set veri tipinde tutulan değişkenin başka bir set veri tipli değişkenle farklı elemanlarını listeler.(Küme farkı)"
   ]
  },
  {
   "cell_type": "code",
   "execution_count": null,
   "metadata": {},
   "outputs": [],
   "source": []
  },
  {
   "cell_type": "markdown",
   "metadata": {},
   "source": [
    "* difference\n",
    "<br>set veri tipinde tutulan değişkenin başka bir set veri tipli değişkenle farklı elemanlarını listeler.(Küme farkı)"
   ]
  },
  {
   "cell_type": "code",
   "execution_count": null,
   "metadata": {},
   "outputs": [],
   "source": []
  }
 ],
 "metadata": {
  "kernelspec": {
   "display_name": "Python 3",
   "language": "python",
   "name": "python3"
  },
  "language_info": {
   "codemirror_mode": {
    "name": "ipython",
    "version": 3
   },
   "file_extension": ".py",
   "mimetype": "text/x-python",
   "name": "python",
   "nbconvert_exporter": "python",
   "pygments_lexer": "ipython3",
   "version": "3.7.3"
  }
 },
 "nbformat": 4,
 "nbformat_minor": 2
}
