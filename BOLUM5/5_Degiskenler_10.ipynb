{
 "cells": [
  {
   "cell_type": "markdown",
   "metadata": {
    "collapsed": true,
    "pycharm": {
     "name": "#%% md\n"
    }
   },
   "source": [
    "1. Aşağıdaki üç farklı sözlüğü tek sözlükte birleştiren python kodunu yazınız<br>\n",
    "dict1={1:10, 2:20}<br>\n",
    "dict2={3:30, 4:40}<br>\n",
    "dict3={5:50,6:60}<br>\n",
    "Beklenen Çıktı : {1: 10, 2: 20, 3: 30, 4: 40, 5: 50, 6: 60}"
   ]
  },
  {
   "cell_type": "code",
   "execution_count": null,
   "outputs": [],
   "source": [],
   "metadata": {
    "collapsed": false,
    "pycharm": {
     "name": "#%%\n"
    }
   }
  },
  {
   "cell_type": "markdown",
   "source": [
    "sozluk ={1: 10, 2: 20, 3: 30, 4: 40, 5: 50, 6: 60}<br>\n",
    "2. Sözlükteki en son elemanı silerek ekrana işlem sonucunu yazdırınız<br>\n",
    "Beklenen Çıktı :60\n"
   ],
   "metadata": {
    "collapsed": false
   }
  },
  {
   "cell_type": "code",
   "execution_count": null,
   "outputs": [],
   "source": [],
   "metadata": {
    "collapsed": false,
    "pycharm": {
     "name": "#%%\n"
    }
   }
  },
  {
   "cell_type": "markdown",
   "source": [
    "dict1={1:10, 2:20}<br>\n",
    "3. Yukarıdaki sözlüğe bir eleman ekleyiniz. <br>\n",
    "Beklenen Çıktı :{1:10, 2:20, 3:30}"
   ],
   "metadata": {
    "collapsed": false
   }
  },
  {
   "cell_type": "code",
   "source": [],
   "metadata": {
    "collapsed": false,
    "pycharm": {
     "name": "#%% \n"
    }
   },
   "execution_count": null,
   "outputs": []
  },
  {
   "cell_type": "markdown",
   "source": [
    "liste=[1,2,3,4,5]<br>\n",
    "4. <br>\n",
    "    a.Yukarıdaki listeden faydalanarak bir sözlük oluşturun<br> \n",
    "    b.sözlüğün her alamanının karşılığına değer olarak anahtarda bulunan sayısal değerin 10 katını eşitleyin.<br>\n",
    "Beklenen Çıktı :<br>\n",
    "a. {1:0,2:0,3:0,4:0,5:0}\n",
    "b. {1:10,2:20,3:30,4:40,5:50}"
   ],
   "metadata": {
    "collapsed": false,
    "pycharm": {
     "name": "#%% md\n"
    }
   }
  },
  {
   "cell_type": "code",
   "execution_count": null,
   "outputs": [],
   "source": [],
   "metadata": {
    "collapsed": false,
    "pycharm": {
     "name": "#%%\n"
    }
   }
  },
  {
   "cell_type": "markdown",
   "source": [
    "5. sozluk={1:10,2:20,3:30,4:40,5:50}<br>\n",
    "Sözlük içerisine <i>6</i> sayısını anahtar olarak değeri <i><b>60</b></i> olacak şekilde setdefault fonksiyonunu kullanarak ekleyiniz\n"
   ],
   "metadata": {
    "collapsed": false
   }
  },
  {
   "cell_type": "code",
   "execution_count": null,
   "outputs": [],
   "source": [
    "\n"
   ],
   "metadata": {
    "collapsed": false,
    "pycharm": {
     "name": "#%%\n"
    }
   }
  }
 ],
 "metadata": {
  "kernelspec": {
   "display_name": "${KERNEL_SPEC_DISPLAY_NAME}",
   "language": "${KERNEL_SPEC_LANGUAGE}",
   "name": "${KERNEL_SPEC_NAME}"
  },
  "language_info": {
   "codemirror_mode": {
    "name": "ipython",
    "version": 2
   },
   "file_extension": ".py",
   "mimetype": "text/x-python",
   "name": "python",
   "nbconvert_exporter": "python",
   "pygments_lexer": "ipython2",
   "version": "2.7.6"
  },
  "pycharm": {
   "stem_cell": {
    "cell_type": "raw",
    "source": [],
    "metadata": {
     "collapsed": false
    }
   }
  }
 },
 "nbformat": 4,
 "nbformat_minor": 0
}