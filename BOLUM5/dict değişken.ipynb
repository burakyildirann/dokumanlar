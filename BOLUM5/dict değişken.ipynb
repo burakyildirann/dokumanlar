{
 "cells": [
  {
   "cell_type": "markdown",
   "metadata": {},
   "source": [
    "Bu bölümde öğreneceklerimiz\n",
    "\n",
    "* dict veri tipi özellikleri\n",
    "* dict veri tipindeki key,value kavramları \n",
    "* dict veri tipi yardımcı fonksiyonları\n",
    "* dict veri tipi üzerinde yapılabilecek işlemler"
   ]
  },
  {
   "cell_type": "markdown",
   "metadata": {},
   "source": [
    "# dict veri tipi\n",
    "\n",
    "**dict** `<class 'dict'>`\n",
    "\n",
    "Python'da dict veritipinde bir değişken tanımlamak için '{}' kullanılır. dict veri tipinde key ve value olmak üzere iki farklı bölüm bulunmaktadır. "
   ]
  },
  {
   "cell_type": "code",
   "execution_count": null,
   "metadata": {},
   "outputs": [],
   "source": []
  },
  {
   "cell_type": "markdown",
   "metadata": {},
   "source": [
    "*key* kısmında immutable veri tipleri ya da sayısal veri tipleri kullanılabilir."
   ]
  },
  {
   "cell_type": "code",
   "execution_count": null,
   "metadata": {},
   "outputs": [],
   "source": []
  },
  {
   "cell_type": "markdown",
   "metadata": {},
   "source": [
    "*value* kısmında tüm veri tipleri kullanılabilir."
   ]
  },
  {
   "cell_type": "code",
   "execution_count": null,
   "metadata": {},
   "outputs": [],
   "source": []
  },
  {
   "cell_type": "markdown",
   "metadata": {},
   "source": [
    "* dict içerisindeki elemanlara erişmek"
   ]
  },
  {
   "cell_type": "code",
   "execution_count": null,
   "metadata": {},
   "outputs": [],
   "source": []
  },
  {
   "cell_type": "markdown",
   "metadata": {},
   "source": [
    "* dict içerisine yeni eleman eklemek"
   ]
  },
  {
   "cell_type": "code",
   "execution_count": null,
   "metadata": {},
   "outputs": [],
   "source": []
  },
  {
   "cell_type": "markdown",
   "metadata": {},
   "source": [
    "* dict içerisinden eleman silmek"
   ]
  },
  {
   "cell_type": "code",
   "execution_count": null,
   "metadata": {},
   "outputs": [],
   "source": []
  },
  {
   "cell_type": "markdown",
   "metadata": {},
   "source": [
    "### dict fonksiyonları\n",
    "* update\n",
    "<br>Farklı bir dict veriyi kabul eder,bu iki elemanlı tuple ya da diğerlerinden biride olabilir. Eğer <b>*key*</b> liste içinde bulunuyorsa gönderilen <b>*value*</b> ile güncellenir."
   ]
  },
  {
   "cell_type": "code",
   "execution_count": null,
   "metadata": {},
   "outputs": [],
   "source": []
  },
  {
   "cell_type": "markdown",
   "metadata": {},
   "source": [
    "* copy\n",
    "<br>değişkenin bir kopyasını geri döndürür"
   ]
  },
  {
   "cell_type": "code",
   "execution_count": null,
   "metadata": {},
   "outputs": [],
   "source": []
  },
  {
   "cell_type": "markdown",
   "metadata": {},
   "source": [
    "* clear\n",
    "<br>dict içindeki tüm elemanları siler"
   ]
  },
  {
   "cell_type": "code",
   "execution_count": null,
   "metadata": {},
   "outputs": [],
   "source": []
  },
  {
   "cell_type": "markdown",
   "metadata": {},
   "source": [
    "* items\n",
    "<br> dict içindeki elemanları `[(key,value)]` düzeninde bir liste şeklinde geri döndürür. "
   ]
  },
  {
   "cell_type": "code",
   "execution_count": null,
   "metadata": {},
   "outputs": [],
   "source": []
  },
  {
   "cell_type": "markdown",
   "metadata": {},
   "source": [
    "* keys\n",
    "<br>dict içindeki key verileri bir list halinde geri döndürür."
   ]
  },
  {
   "cell_type": "code",
   "execution_count": null,
   "metadata": {},
   "outputs": [],
   "source": []
  },
  {
   "cell_type": "markdown",
   "metadata": {},
   "source": [
    "* values\n",
    "<br>dict içindeki value verileri bir list halinde geri döndürür"
   ]
  },
  {
   "cell_type": "code",
   "execution_count": null,
   "metadata": {},
   "outputs": [],
   "source": []
  },
  {
   "cell_type": "markdown",
   "metadata": {},
   "source": [
    "* pop\n",
    "<br>verilen key değer dict içirisinde varsa bu key silinir ve ona ait value değerini geri döndürür.  key değerinin sözlükte bulunmaması durumunda dict için varsayılan değer belirlenmişse bu değeri,belirlenmemişse  `Key Error` verir."
   ]
  },
  {
   "cell_type": "code",
   "execution_count": null,
   "metadata": {},
   "outputs": [],
   "source": []
  },
  {
   "cell_type": "markdown",
   "metadata": {},
   "source": [
    "* popitem\n",
    "<br>dict içerisinde `(key,value)` şeklinde eleman silmek için kullanılır. Geri alma işlemi sırasında LIFO prensibi kullanılır. En son giren eleman ilk çıkan olacaktır. Python 3.7 versiyonunda LIFO prensibi kesinleşmiştir. Bundan önceki versiyonlarda keyfi silme işlemi yapılmıştır. "
   ]
  },
  {
   "cell_type": "code",
   "execution_count": null,
   "metadata": {},
   "outputs": [],
   "source": []
  },
  {
   "cell_type": "markdown",
   "metadata": {},
   "source": [
    "* setdefault\n",
    "<br>dict içerisinde bir key varsa bu elbette value değerini döndürecektir. Ancak key değerinin dict içerisinde olmaması durumunda hangi değer döndüreceği bu fonksiyonla ayarlanır"
   ]
  },
  {
   "cell_type": "code",
   "execution_count": null,
   "metadata": {},
   "outputs": [],
   "source": []
  },
  {
   "cell_type": "markdown",
   "metadata": {},
   "source": [
    "Egzersiz zamanı uygulama dosyalarından [5_Degiskenler_10.ipynb](http://www.uzaktanegitim.com) dosyasını açarak uygulamamızı yapabiliriz."
   ]
  }
 ],
 "metadata": {
  "kernelspec": {
   "display_name": "Python 3",
   "language": "python",
   "name": "python3"
  },
  "language_info": {
   "codemirror_mode": {
    "name": "ipython",
    "version": 3
   },
   "file_extension": ".py",
   "mimetype": "text/x-python",
   "name": "python",
   "nbconvert_exporter": "python",
   "pygments_lexer": "ipython3",
   "version": "3.7.3"
  }
 },
 "nbformat": 4,
 "nbformat_minor": 2
}
