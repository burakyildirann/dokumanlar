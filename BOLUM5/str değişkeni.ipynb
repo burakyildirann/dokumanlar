{
 "cells": [
  {
   "cell_type": "markdown",
   "metadata": {},
   "source": [
    "Bu bölümde öğreneceklerimiz\n",
    "\n",
    "* str veri tipi ve özellikleri\n",
    "* str veri tipi yardımcı fonksiyonları\n",
    "* str format\n",
    "* str indis kullanımı\n",
    "* escape sequences\n",
    "* raw string\n",
    "\n",
    "Öğrendiklerimiz sayesinde\n",
    "\n",
    "\n",
    "\n"
   ]
  },
  {
   "cell_type": "code",
   "execution_count": null,
   "metadata": {},
   "outputs": [],
   "source": []
  },
  {
   "cell_type": "markdown",
   "metadata": {},
   "source": [
    "## String Veri Tipi\n",
    "\n",
    "**str** `<class 'str'>`\n",
    "\n",
    "Bir string veri tipinde veri tutan değişkeni oluşturmak üç farklı yöntem kullanabiliriz.\n",
    "1. **' '**\n",
    "2. **\" \"**\n",
    "3. **\"\"\" \"\"\"**"
   ]
  },
  {
   "cell_type": "code",
   "execution_count": null,
   "metadata": {},
   "outputs": [],
   "source": []
  },
  {
   "cell_type": "markdown",
   "metadata": {},
   "source": [
    "### string değişkenleri immutable değişkenlerdir\n",
    "String değişkenler oluşturulduktan sonra üzerinde *değişiklik* yapılamaz"
   ]
  },
  {
   "cell_type": "code",
   "execution_count": null,
   "metadata": {},
   "outputs": [],
   "source": []
  },
  {
   "cell_type": "markdown",
   "metadata": {},
   "source": [
    "### String veri tipi yardımcı fonksiyonları\n",
    "String veri tipinde kullanabileceğimiz başlıca fonksiyonlar;\n",
    "1. format\n",
    "2. split\n",
    "3. strip\n",
    "4. replace\n",
    "5. capitalize\n",
    "6. index\n",
    "7. lower\n",
    "8. upper\n",
    "9. is ile başlayan fonksiyonlar\n",
    "10. endswith ve startswith ile biten fonksiyonlar\n"
   ]
  },
  {
   "cell_type": "code",
   "execution_count": null,
   "metadata": {},
   "outputs": [],
   "source": []
  },
  {
   "cell_type": "markdown",
   "metadata": {},
   "source": [
    "#### 1. format fonksiyonu\n",
    "`format` fonksiyonu ile daha önceden belirlenen aralıklara değişken yerleştirme işlemi yapılır. "
   ]
  },
  {
   "cell_type": "code",
   "execution_count": null,
   "metadata": {},
   "outputs": [],
   "source": []
  },
  {
   "cell_type": "markdown",
   "metadata": {},
   "source": [
    "#### 2. split fonksiyonu\n",
    "`split` fonksiyonu belirlediğimiz karaktere göre değişken içerisinde tuttuğumuz metni bölerek bize liste tipinde bir veri olarak geri döndürür. "
   ]
  },
  {
   "cell_type": "code",
   "execution_count": null,
   "metadata": {},
   "outputs": [],
   "source": []
  },
  {
   "cell_type": "markdown",
   "metadata": {},
   "source": [
    "#### 3. strip fonksiyonu\n",
    "`strip` fonksiyonu farklı bir karakterle karşılaşanadek fonksiyona verdiğimiz parametreyi metinden siler ver sonucu bize geri döndürür. Bu işlemi sağdan ve soldan aynı anda yapar. Bu amaçla sadece sağdan ya da sadece soldan işlem yapabilecek `rstrip` ve `lstrip` iki fonksiyon daha vardır.  "
   ]
  },
  {
   "cell_type": "code",
   "execution_count": null,
   "metadata": {},
   "outputs": [],
   "source": []
  },
  {
   "cell_type": "markdown",
   "metadata": {},
   "source": [
    "#### 4. replace fonksiyonu\n",
    "`replace` fonksiyonu str veri tipinin *immutable* olması nedeniyle var olan metin içinde istediğimiz karakter ya da metin parçalarını yine belirlediğimiz diğer karakter ve metin parçalarıyla değiştirir, işlem sonucunu bize geri döndürür. "
   ]
  },
  {
   "cell_type": "code",
   "execution_count": null,
   "metadata": {},
   "outputs": [],
   "source": []
  },
  {
   "cell_type": "markdown",
   "metadata": {},
   "source": [
    "#### 5. capitalize fonksiyonu\n",
    "Değişken içerisinde bulunan metnin ilk harfini büyük harfe dönüştürür. Bu aşamada türkçe karakter desteği olmadığına dikkat edilmelidir. "
   ]
  },
  {
   "cell_type": "code",
   "execution_count": null,
   "metadata": {},
   "outputs": [],
   "source": []
  },
  {
   "cell_type": "markdown",
   "metadata": {},
   "source": [
    "#### 6. index fonksiyonu\n",
    "`index` fonksiyonu metin içerisinde kendisine verilen karakteri ya da metin parçasını ilk bulduğu yerdeki karaktere ait indis numarasını geri döndürür"
   ]
  },
  {
   "cell_type": "code",
   "execution_count": null,
   "metadata": {},
   "outputs": [],
   "source": []
  },
  {
   "cell_type": "markdown",
   "metadata": {},
   "source": [
    "#### 7. lower fonksiyonu\n",
    "`lower` metin içerisindeki büyük harf ve küçük harfleri göz ardı ederek tüm harfleri küçük harfe çevirir."
   ]
  },
  {
   "cell_type": "code",
   "execution_count": null,
   "metadata": {},
   "outputs": [],
   "source": []
  },
  {
   "cell_type": "markdown",
   "metadata": {},
   "source": [
    "#### 8. upper fonksiyonu\n",
    "`upper` metin içerisindeki büyük harf ve küçük harfleri göz ardı ederek tüm harfleri büyük harfe çevirir."
   ]
  },
  {
   "cell_type": "code",
   "execution_count": null,
   "metadata": {},
   "outputs": [],
   "source": []
  },
  {
   "cell_type": "markdown",
   "metadata": {},
   "source": [
    "#### 9. is ile başlayan fonksiyonlar\n",
    "is ile başlayan fonksiyonlar kontrol amaçlı kullanılan fonksiyonlar olup True ya da False değeri döndürürler. Genellikle if koşuluyla birlikte kullanılırlar."
   ]
  },
  {
   "cell_type": "code",
   "execution_count": null,
   "metadata": {},
   "outputs": [],
   "source": []
  },
  {
   "cell_type": "markdown",
   "metadata": {},
   "source": [
    "### str verilerine erişim\n",
    "\n",
    "str veri tipleri python tarafından bir dizi olarak algılanmaktadır.Bu nedenle metnin içerisindeki her bir karaktere erişebileceğimiz gibi metnin bir bölümünüde farklı bir değişkene aktarabilmemiz oldukça kolaydır. Bunun için kullandığımız yöntem \n",
    "\n",
    "degisken[**başlangıç noktası**:**bitiş noktası**:**adım değeri**] şeklinde olacaktır. "
   ]
  },
  {
   "cell_type": "code",
   "execution_count": null,
   "metadata": {},
   "outputs": [],
   "source": []
  },
  {
   "cell_type": "markdown",
   "metadata": {},
   "source": [
    "### escape sequences (kaçış karakterleri)\n",
    "Kaçış karakterleri neredeyse tüm programlama dillerinde vardır. Pythonda ise karşılığı *** \\ (backslash) ***  karakteridir. \n",
    "Bu karakter ardından gelen karakterlerin farklı algınlanmasına sebep olur. Örneğin: `\\n` yeni satıra geçmesini sağlar. "
   ]
  },
  {
   "cell_type": "code",
   "execution_count": null,
   "metadata": {},
   "outputs": [],
   "source": []
  },
  {
   "cell_type": "markdown",
   "metadata": {},
   "source": [
    "### raw string \n",
    "Bir metnin escape karakter barındırsa bile bunu dikkate almasını istemiyorsak raw string tanımlamamız gerekmektedir.\n",
    "Bunun için yapmamız gereken metinin başlangıcında hemen dışına 'r' harfini koymaktır. Örneğin : `r\"c:\\newFolder\"`"
   ]
  },
  {
   "cell_type": "code",
   "execution_count": null,
   "metadata": {},
   "outputs": [],
   "source": []
  },
  {
   "cell_type": "markdown",
   "metadata": {},
   "source": [
    "Egzersiz zamanı uygulama dosyalarından [5_Degiskenler_7_3.ipynb](http://www.uzaktanegitim.com) dosyasını açarak uygulamamızı yapabiliriz."
   ]
  }
 ],
 "metadata": {
  "kernelspec": {
   "display_name": "Python 3",
   "language": "python",
   "name": "python3"
  },
  "language_info": {
   "codemirror_mode": {
    "name": "ipython",
    "version": 3
   },
   "file_extension": ".py",
   "mimetype": "text/x-python",
   "name": "python",
   "nbconvert_exporter": "python",
   "pygments_lexer": "ipython3",
   "version": "3.7.3"
  }
 },
 "nbformat": 4,
 "nbformat_minor": 2
}
