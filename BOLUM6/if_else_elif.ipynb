{
 "cells": [
  {
   "cell_type": "markdown",
   "metadata": {},
   "source": [
    "Bu bölümde öğreneceklerimiz\n",
    "* if koşulu kullanımı\n",
    "* else kullanımı\n",
    "* elif koşullarının kullanımı\n",
    "* pass deyimi"
   ]
  },
  {
   "cell_type": "markdown",
   "metadata": {},
   "source": [
    "# if koşulu kullanımı \n",
    "**if** \n",
    "if koşulu için kullanılabilecek koşullar;\n",
    "<table>\n",
    "<thead>\n",
    "<tr class=\"row-odd\"><th class=\"head\"><p>Operatör</p></th>\n",
    "<th class=\"head\"><p>Anlamı</p></th>\n",
    "</tr>\n",
    "</thead>\n",
    "<tbody>\n",
    "<tr class=\"row-even\"><td><p><code class=\"docutils literal notranslate\"><span class=\"pre\">&lt;</span></code></p></td>\n",
    "<td><p>küçüktür</p></td>\n",
    "</tr>\n",
    "<tr class=\"row-odd\"><td><p><code class=\"docutils literal notranslate\"><span class=\"pre\">&lt;=</span></code></p></td>\n",
    "<td><p>küçük eşittir</p></td>\n",
    "</tr>\n",
    "<tr class=\"row-even\"><td><p><code class=\"docutils literal notranslate\"><span class=\"pre\">&gt;</span></code></p></td>\n",
    "<td><p>büyüktür</p></td>\n",
    "</tr>\n",
    "<tr class=\"row-odd\"><td><p><code class=\"docutils literal notranslate\"><span class=\"pre\">&gt;=</span></code></p></td>\n",
    "<td><p>büyük eşittir</p></td>\n",
    "</tr>\n",
    "<tr class=\"row-even\"><td><p><code class=\"docutils literal notranslate\"><span class=\"pre\">==</span></code></p></td>\n",
    "<td><p>eşittir</p></td>\n",
    "</tr>\n",
    "<tr class=\"row-odd\"><td><p><code class=\"docutils literal notranslate\"><span class=\"pre\">!=</span></code></p></td>\n",
    "<td><p>eşit değildir</p></td>\n",
    "</tr>\n",
    "<tr class=\"row-even\"><td><p><code class=\"docutils literal notranslate\"><span class=\"pre\">is</span></code></p></td>\n",
    "<td><p>nesne kimliği</p></td>\n",
    "</tr>\n",
    "<tr class=\"row-odd\"><td><p><code class=\"docutils literal notranslate\"><span class=\"pre\">is</span> <span class=\"pre\">not</span></code></p></td>\n",
    "<td><p>değil nesne kimliği</p></td>\n",
    "</tr>\n",
    "<tr class=\"row-odd\"><td><p><code class=\"docutils literal notranslate\"><span class=\"pre\">not</span></code></p></td>\n",
    "<td><p>değil</p></td>\n",
    "</tr>\n",
    "<tr class=\"row-odd\"><td><p><code class=\"docutils literal notranslate\"><span class=\"pre\">and</span></code></p></td>\n",
    "<td><p>ve</p></td>\n",
    "</tr>\n",
    "<tr class=\"row-odd\"><td><p><code class=\"docutils literal notranslate\"><span class=\"pre\">or</span></code></p></td>\n",
    "<td><p>veya</p></td>\n",
    "</tr>\n",
    "<tr class=\"row-odd\"><td><p><code class=\"docutils literal notranslate\"><span class=\"pre\">in</span></code></p></td>\n",
    "<td><p>içinde</p></td>\n",
    "</tr>\n",
    "<tr class=\"row-odd\"><td><p><code class=\"docutils literal notranslate\"><span class=\"pre\">not in</span></code></p></td>\n",
    "<td><p>içinde değil</p></td>\n",
    "</tr>   \n",
    "</tbody>\n",
    "    </table>"
   ]
  },
  {
   "cell_type": "code",
   "execution_count": null,
   "metadata": {},
   "outputs": [],
   "source": []
  },
  {
   "cell_type": "markdown",
   "metadata": {},
   "source": [
    "# else\n",
    "else ifadesi yanına bir koşul yazmayız sadece if ile birlikte kullanılmaz,diğer kullanımlarına daha sonra değineceğiz. "
   ]
  },
  {
   "cell_type": "code",
   "execution_count": null,
   "metadata": {},
   "outputs": [],
   "source": []
  },
  {
   "cell_type": "markdown",
   "metadata": {},
   "source": [
    "else ardından başka bir if yazmakta mümkündür. \n"
   ]
  },
  {
   "cell_type": "code",
   "execution_count": null,
   "metadata": {},
   "outputs": [],
   "source": []
  },
  {
   "cell_type": "markdown",
   "metadata": {},
   "source": [
    "# elif\n",
    "elif deyimi başlangıçta kullanılan if ile birlikte değerlendirilir. koşulu sağlanan elif ten sonraki koşul kontrolleri gerçekleştirilmez. "
   ]
  },
  {
   "cell_type": "code",
   "execution_count": null,
   "metadata": {},
   "outputs": [],
   "source": []
  },
  {
   "cell_type": "markdown",
   "metadata": {},
   "source": [
    "bir örnek uygulama ile bahsettiğimiz deyimleri tekrar edelim"
   ]
  },
  {
   "cell_type": "code",
   "execution_count": null,
   "metadata": {},
   "outputs": [],
   "source": []
  },
  {
   "cell_type": "markdown",
   "metadata": {},
   "source": [
    "### in\n",
    "sorgulanan değerin bir dizinin içinde olup olmadığını kontrol ederken kullanılır. "
   ]
  },
  {
   "cell_type": "code",
   "execution_count": null,
   "metadata": {},
   "outputs": [],
   "source": []
  },
  {
   "cell_type": "markdown",
   "metadata": {},
   "source": [
    "### is\n",
    "sorgulanan iki değerin birbiriyle aynı olup olmadığını kontrol eder"
   ]
  },
  {
   "cell_type": "code",
   "execution_count": null,
   "metadata": {},
   "outputs": [],
   "source": []
  },
  {
   "cell_type": "markdown",
   "metadata": {},
   "source": [
    "### and\n",
    "ve;iki koşulun doğru olması durumunda çalışır"
   ]
  },
  {
   "cell_type": "code",
   "execution_count": null,
   "metadata": {},
   "outputs": [],
   "source": []
  },
  {
   "cell_type": "markdown",
   "metadata": {},
   "source": [
    "### or\n",
    "veya;iki koşuldan birinin doğru olması durumunda çalışır"
   ]
  },
  {
   "cell_type": "code",
   "execution_count": null,
   "metadata": {},
   "outputs": [],
   "source": []
  },
  {
   "cell_type": "markdown",
   "metadata": {},
   "source": [
    "### not\n",
    "önüne geldiği doğrulama ifadesinin tersi olarak ele alır"
   ]
  },
  {
   "cell_type": "code",
   "execution_count": null,
   "metadata": {},
   "outputs": [],
   "source": []
  },
  {
   "cell_type": "markdown",
   "metadata": {},
   "source": [
    "**Örnek Uygulama**"
   ]
  },
  {
   "cell_type": "code",
   "execution_count": null,
   "metadata": {},
   "outputs": [],
   "source": []
  }
 ],
 "metadata": {
  "kernelspec": {
   "display_name": "Python 3",
   "language": "python",
   "name": "python3"
  },
  "language_info": {
   "codemirror_mode": {
    "name": "ipython",
    "version": 3
   },
   "file_extension": ".py",
   "mimetype": "text/x-python",
   "name": "python",
   "nbconvert_exporter": "python",
   "pygments_lexer": "ipython3",
   "version": "3.7.3"
  }
 },
 "nbformat": 4,
 "nbformat_minor": 2
}
